{
 "cells": [
  {
   "cell_type": "code",
   "execution_count": 1,
   "metadata": {},
   "outputs": [
    {
     "ename": "AssertionError",
     "evalue": "",
     "output_type": "error",
     "traceback": [
      "\u001b[0;31m---------------------------------------------------------------------------\u001b[0m",
      "\u001b[0;31mAssertionError\u001b[0m                            Traceback (most recent call last)",
      "Cell \u001b[0;32mIn[1], line 6\u001b[0m\n\u001b[1;32m      3\u001b[0m \u001b[38;5;28;01mfrom\u001b[39;00m \u001b[38;5;21;01mgetpass\u001b[39;00m \u001b[38;5;28;01mimport\u001b[39;00m getpass\n\u001b[1;32m      5\u001b[0m token \u001b[38;5;241m=\u001b[39m getpass(\u001b[38;5;124m\"\u001b[39m\u001b[38;5;124m请输入 GitHub Token: \u001b[39m\u001b[38;5;124m\"\u001b[39m)\n\u001b[0;32m----> 6\u001b[0m auth \u001b[38;5;241m=\u001b[39m \u001b[43mAuth\u001b[49m\u001b[38;5;241;43m.\u001b[39;49m\u001b[43mToken\u001b[49m\u001b[43m(\u001b[49m\u001b[43mtoken\u001b[49m\u001b[43m)\u001b[49m\n\u001b[1;32m      8\u001b[0m g \u001b[38;5;241m=\u001b[39m Github(auth\u001b[38;5;241m=\u001b[39mauth)\n\u001b[1;32m     10\u001b[0m ORG_NAME \u001b[38;5;241m=\u001b[39m \u001b[38;5;124m\"\u001b[39m\u001b[38;5;124many-xi\u001b[39m\u001b[38;5;124m\"\u001b[39m\n",
      "File \u001b[0;32m~/workspace/xi/retention-container/.venv/lib/python3.12/site-packages/github/Auth.py:156\u001b[0m, in \u001b[0;36mToken.__init__\u001b[0;34m(self, token)\u001b[0m\n\u001b[1;32m    154\u001b[0m \u001b[38;5;28;01mdef\u001b[39;00m \u001b[38;5;21m__init__\u001b[39m(\u001b[38;5;28mself\u001b[39m, token: \u001b[38;5;28mstr\u001b[39m):\n\u001b[1;32m    155\u001b[0m     \u001b[38;5;28;01massert\u001b[39;00m \u001b[38;5;28misinstance\u001b[39m(token, \u001b[38;5;28mstr\u001b[39m)\n\u001b[0;32m--> 156\u001b[0m     \u001b[38;5;28;01massert\u001b[39;00m \u001b[38;5;28mlen\u001b[39m(token) \u001b[38;5;241m>\u001b[39m \u001b[38;5;241m0\u001b[39m\n\u001b[1;32m    157\u001b[0m     \u001b[38;5;28mself\u001b[39m\u001b[38;5;241m.\u001b[39m_token \u001b[38;5;241m=\u001b[39m token\n",
      "\u001b[0;31mAssertionError\u001b[0m: "
     ]
    }
   ],
   "source": [
    "from github import Auth, Github\n",
    "\n",
    "from getpass import getpass\n",
    "\n",
    "token = getpass(\"请输入 GitHub Token: \")\n",
    "auth = Auth.Token(token)\n",
    "\n",
    "g = Github(auth=auth)\n",
    "\n",
    "ORG_NAME = \"any-xi\"\n",
    "CONTAINER_NAME_PREFIX = \"writing-\"\n"
   ]
  },
  {
   "cell_type": "code",
   "execution_count": 2,
   "metadata": {},
   "outputs": [
    {
     "name": "stdout",
     "output_type": "stream",
     "text": [
      "['writing-frontend', 'writing-backend', 'writing-streamlit_app', 'writing-reader', 'writing-searxng']\n"
     ]
    }
   ],
   "source": [
    "from typing import TypedDict\n",
    "\n",
    "# 获取 Docker package\n",
    "# 获取组织\n",
    "org = g.get_organization(ORG_NAME)\n",
    "\n",
    "\n",
    "class Package(TypedDict):\n",
    "    id: int\n",
    "    name: str\n",
    "    version_count: int\n",
    "\n",
    "\n",
    "packages: list[Package] = []\n",
    "\n",
    "# 获取组织下的所有 packages\n",
    "# 注意: PyGithub 目前不支持直接通过 Organization 对象获取 packages\n",
    "# 需要使用 REST API 直接调用\n",
    "headers, packages = g._Github__requester.requestJsonAndCheck(\n",
    "    \"GET\",\n",
    "    f\"/orgs/{ORG_NAME}/packages\",\n",
    "    {\"package_type\": \"container\"},  # 指定 package_type 为 container\n",
    ")\n",
    "\n",
    "\n",
    "# 遍历并打印 packages 信息\n",
    "packages = [pkg for pkg in packages if pkg[\"name\"].startswith(CONTAINER_NAME_PREFIX)]\n",
    "\n",
    "print([p[\"name\"] for p in packages])"
   ]
  },
  {
   "cell_type": "code",
   "execution_count": 3,
   "metadata": {},
   "outputs": [
    {
     "name": "stdout",
     "output_type": "stream",
     "text": [
      "Deleting writing-frontend version 245389973\n",
      "Deleting writing-frontend version 245340222\n",
      "Deleting writing-frontend version 245229660\n",
      "Deleting writing-frontend version 244899142\n",
      "Deleting writing-frontend version 244153705\n",
      "Deleting writing-frontend version 244075000\n",
      "Deleting writing-frontend version 243731620\n",
      "Deleting writing-frontend version 242966017\n",
      "Deleting writing-frontend version 242942322\n",
      "Deleting writing-frontend version 242748272\n",
      "Deleting writing-frontend version 242362897\n",
      "Deleting writing-frontend version 242194402\n",
      "Deleting writing-frontend version 242188201\n",
      "Deleting writing-frontend version 242109434\n",
      "Deleting writing-backend version 245389600\n",
      "Deleting writing-backend version 245385936\n",
      "Deleting writing-backend version 245339618\n",
      "Deleting writing-backend version 245229725\n",
      "Deleting writing-backend version 244899585\n"
     ]
    }
   ],
   "source": [
    "# 解析创建时间并计算是否超过一个月\n",
    "from datetime import datetime, timezone, timedelta\n",
    "\n",
    "\n",
    "def get_outdated_versions(pkg_name: str):\n",
    "    headers, versions = g._Github__requester.requestJsonAndCheck(\n",
    "        \"GET\", f\"/orgs/{ORG_NAME}/packages/container/{pkg_name}/versions\"\n",
    "    )\n",
    "\n",
    "    outdated_versions = []\n",
    "\n",
    "    # 遍历并打印版本信息\n",
    "    for version in versions:\n",
    "        created_at = datetime.strptime(version[\"created_at\"], \"%Y-%m-%dT%H:%M:%SZ\")\n",
    "        created_at = created_at.replace(tzinfo=timezone.utc)\n",
    "        one_month_ago = datetime.now(timezone.utc) - timedelta(days=30)\n",
    "\n",
    "        tags = version[\"metadata\"][\"container\"][\"tags\"]\n",
    "\n",
    "        if created_at < one_month_ago and not tags:\n",
    "            outdated_versions.append(version)\n",
    "\n",
    "    return outdated_versions\n",
    "\n",
    "\n",
    "def delete_package(pkg_name: str, version_id: int):\n",
    "    print(f\"Deleting {pkg_name} version {version_id}\")\n",
    "    g._Github__requester.requestJsonAndCheck(\n",
    "        \"DELETE\",\n",
    "        f\"/orgs/{ORG_NAME}/packages/container/{pkg_name}/versions/{version_id}\",\n",
    "    )\n",
    "\n",
    "\n",
    "for pkg in packages:\n",
    "    outdated_versions = get_outdated_versions(pkg[\"name\"])\n",
    "\n",
    "    for version in outdated_versions:\n",
    "        delete_package(pkg[\"name\"], version[\"id\"])\n"
   ]
  },
  {
   "cell_type": "code",
   "execution_count": null,
   "metadata": {},
   "outputs": [],
   "source": [
    "\n"
   ]
  }
 ],
 "metadata": {
  "kernelspec": {
   "display_name": ".venv",
   "language": "python",
   "name": "python3"
  },
  "language_info": {
   "codemirror_mode": {
    "name": "ipython",
    "version": 3
   },
   "file_extension": ".py",
   "mimetype": "text/x-python",
   "name": "python",
   "nbconvert_exporter": "python",
   "pygments_lexer": "ipython3",
   "version": "3.12.4"
  }
 },
 "nbformat": 4,
 "nbformat_minor": 2
}
